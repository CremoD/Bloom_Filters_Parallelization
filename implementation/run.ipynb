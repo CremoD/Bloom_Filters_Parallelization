{
 "cells": [
  {
   "cell_type": "code",
   "execution_count": 3,
   "metadata": {},
   "outputs": [],
   "source": [
    "import os\n",
    "import sys\n",
    "import time"
   ]
  },
  {
   "cell_type": "code",
   "execution_count": null,
   "metadata": {},
   "outputs": [],
   "source": [
    "command = \"\"\n",
    "if sys.platform == 'win32':\n",
    "    command = \"del\"\n",
    "else:\n",
    "    command = \"rm\""
   ]
  },
  {
   "cell_type": "code",
   "execution_count": null,
   "metadata": {},
   "outputs": [],
   "source": [
    "os.system(f\"cd ../results && {command} *.csv\")\n",
    "os.system(\"cd ../baseline\")"
   ]
  },
  {
   "cell_type": "code",
   "execution_count": null,
   "metadata": {},
   "outputs": [],
   "source": [
    "print(os.popen(\"dir\").read())"
   ]
  },
  {
   "cell_type": "code",
   "execution_count": 4,
   "metadata": {},
   "outputs": [],
   "source": [
    "time_list = []"
   ]
  },
  {
   "cell_type": "code",
   "execution_count": 5,
   "metadata": {},
   "outputs": [
    {
     "name": "stdout",
     "output_type": "stream",
     "text": [
      "0\n",
      "reduction done\n",
      "\n",
      "Time elapsed: 9.980248522758483 min\n",
      "=====================================================================\n",
      "\n",
      "0\n",
      "reduction done\n",
      "\n",
      "Time elapsed: 10.15959069331487 min\n",
      "=====================================================================\n",
      "\n",
      "0\n",
      "reduction done\n",
      "\n",
      "Time elapsed: 10.107722532749175 min\n",
      "=====================================================================\n",
      "\n",
      "0\n",
      "reduction done\n",
      "\n",
      "Time elapsed: 9.999178795019786 min\n",
      "=====================================================================\n",
      "\n",
      "0\n",
      "reduction done\n",
      "\n",
      "Time elapsed: 10.110970052083333 min\n",
      "=====================================================================\n",
      "\n",
      "0\n",
      "reduction done\n",
      "\n",
      "Time elapsed: 10.246562433242797 min\n",
      "=====================================================================\n",
      "\n",
      "0\n",
      "reduction done\n",
      "\n",
      "Time elapsed: 10.554396569728851 min\n",
      "=====================================================================\n",
      "\n",
      "0\n",
      "reduction done\n",
      "\n",
      "Time elapsed: 10.49621442159017 min\n",
      "=====================================================================\n",
      "\n",
      "0\n",
      "reduction done\n",
      "\n",
      "Time elapsed: 10.500663050015767 min\n",
      "=====================================================================\n",
      "\n",
      "0\n",
      "reduction done\n",
      "\n",
      "Time elapsed: 10.204610971609752 min\n",
      "=====================================================================\n",
      "\n"
     ]
    }
   ],
   "source": [
    "for i in range(10):\n",
    "    start = time.time()\n",
    "    #print(f\"{i}\\n\")\n",
    "    #print(os.system('make full_baseline out=baseline'))\n",
    "    #print(\"baseline done\\n\")\n",
    "    #print(os.system('make full_omp out=omp'))\n",
    "    #print(\"omp done\\n\")\n",
    "    #print(os.system('make full_atomic out=atomic'))\n",
    "    #print(\"atomic done\\n\")\n",
    "    print(os.system('make full_reduction out=reduction'))\n",
    "    print(\"reduction done\\n\")\n",
    "    end = time.time()\n",
    "    print(f\"Time elapsed: {(end - start)/60} min\")\n",
    "    time_list.append((end - start)/60)\n",
    "    print(\"=====================================================================\\n\")"
   ]
  },
  {
   "cell_type": "code",
   "execution_count": 6,
   "metadata": {},
   "outputs": [
    {
     "name": "stdout",
     "output_type": "stream",
     "text": [
      "Total time: 102.36015804211297\n"
     ]
    }
   ],
   "source": [
    "my_sum = 0\n",
    "for i in time_list:\n",
    "    my_sum += i\n",
    "print(f\"Total time: {my_sum}\")"
   ]
  },
  {
   "cell_type": "code",
   "execution_count": null,
   "metadata": {},
   "outputs": [],
   "source": []
  }
 ],
 "metadata": {
  "kernelspec": {
   "display_name": "Python 3",
   "language": "python",
   "name": "python3"
  },
  "language_info": {
   "codemirror_mode": {
    "name": "ipython",
    "version": 3
   },
   "file_extension": ".py",
   "mimetype": "text/x-python",
   "name": "python",
   "nbconvert_exporter": "python",
   "pygments_lexer": "ipython3",
   "version": "3.8.5"
  }
 },
 "nbformat": 4,
 "nbformat_minor": 4
}
